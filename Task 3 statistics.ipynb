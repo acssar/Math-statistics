{
 "cells": [
  {
   "cell_type": "markdown",
   "id": "8e4fae2f",
   "metadata": {},
   "source": [
    "### Дерунец Роман 20930, вариант 2\n",
    "\n",
    "3.1. Проверить гипотезу о независимости переменных по критерию Хи-\n",
    "квадрат (2 балла)  \n",
    "\n",
    "\n",
    "3.2. Вычислить оценку ковариации, коэффициента корреляции (2 балла).  \n",
    "Проверить гипотезу о незначимости коэффициента корреляции (2 балла).\n",
    "\n",
    "\n",
    "3.3. Оценить параметры линейной регрессии (1 балл), вычислить  \n",
    "коэффициент детерминации (1 балл), проверить значимость модели по\n",
    "критерию Фишера (2 балла).\n",
    "\n",
    "\n",
    "Iris Setosa, Длина\n",
    "чашелистика, Длина\n",
    "лепестка"
   ]
  },
  {
   "cell_type": "code",
   "execution_count": 27,
   "id": "fc24e295",
   "metadata": {},
   "outputs": [
    {
     "name": "stdout",
     "output_type": "stream",
     "text": [
      "5.8\n",
      "Пункт 3.1\n",
      "             (4.1;4.4]  (4.4;4.7]  (4.7;5]  (5;5.3]  (5.3;5.6]  (5.6;5.9)   i\n",
      "[0.85;1.05]          0          1        0        0          1          1   3\n",
      "(1.05;1.25]          4          7        3        3          0          3  20\n",
      "(1.25;1.45]          2          8        7        2          1          0  20\n",
      "(1.45;1.65]          0          0        1        2          1          0   4\n",
      "(1.65;1.85]          0          1        1        0          0          0   2\n",
      "(1.85;2.05]          1          0        0        0          0          0   1\n",
      "j                    7         17       12        7          3          4  50\n",
      "Гипотеза о независимости длины чашелистника и длины лепестка подверждается тк -25.442927170868344 < 37.6\n"
     ]
    }
   ],
   "source": [
    "import numpy as np\n",
    "import pandas as pd\n",
    "import matplotlib.pyplot as plt\n",
    "import seaborn as sb\n",
    "from sklearn.linear_model import LinearRegression\n",
    "\n",
    "df = pd.read_csv('Dataframe.csv', sep=' ')\n",
    "df = df.drop(df[df.iris_species != 'setosa'].index)\n",
    "mini1 = min(df['sepal_length'])  # Нашли минимальные и максимальные значения каждого столбца, чтобы правильно определить\n",
    "maxi1 = max(df['sepal_length'])  # периоды\n",
    "mini2 = min(df['petal_length'])\n",
    "maxi2 = max(df['petal_length'])\n",
    "print(maxi1)\n",
    "\n",
    "# 3.1\n",
    "print('Пункт 3.1')\n",
    "leni = 6  # Из формулы 1 + 3,32 * lg(50)\n",
    "\n",
    "# Заранее составим подходящие нам интервалы Y - (4.1;4.4] u (4.4;4.7] u (4.7;5] u (5;5.3] u (5.3;5.6] u (5.6;5.9)\n",
    "# X - [0.85;1.05] u (1.05;1.25] u (1.25;1.45] u (1.45;1.65] u (1.65;1.85] u (1.85;2.05]. А теперь составим таблицу\n",
    "\n",
    "x = pd.Series(df['sepal_length'])\n",
    "y = pd.Series(df['petal_length'])\n",
    "\n",
    "l = []\n",
    "for i in range(6):\n",
    "    l.append([0, 0, 0, 0, 0, 0])\n",
    "\n",
    "for n1, n2 in zip([4.1, 4.41, 4.71, 5.01, 5.31, 5.61], [4.4, 4.7, 5, 5.3, 5.6, 5.9]):\n",
    "    s = x.between(n1, n2)\n",
    "    for m1, m2 in zip([0.85, 1.051, 1.251, 1.451, 1.651, 1.851], [1.05, 1.25, 1.45, 1.65, 1.85, 2.05]):\n",
    "        k = y.between(m1, m2)\n",
    "        df2 = pd.concat([s, k], axis=1)\n",
    "        for i in range(0, 50):\n",
    "            if df2['sepal_length'][i] == True and df2['petal_length'][i] == True:\n",
    "                ind1 = int((n1 - 4.31) // 0.3)\n",
    "                ind2 = int((m1 - 1.01) // 0.2)\n",
    "                l[ind1][ind2] += 1\n",
    "df4 = pd.DataFrame(l, index=[\"(4.1;4.4]\", \"(4.4;4.7]\", \"(4.7;5]\", \"(5;5.3]\", \"(5.3;5.6]\", \"(5.6;5.9)\"],\n",
    "                   columns=['[0.85;1.05]', '(1.05;1.25]', '(1.25;1.45]', '(1.45;1.65]', '(1.65;1.85]', '(1.85;2.05]']).T\n",
    "df4['i'] = df4.sum(axis=1)\n",
    "df4.loc['j'] = df4.sum()\n",
    "print(df4)\n",
    "# Теперь приступим к вычислениям\n",
    "n = 0\n",
    "for i, j in zip([\"(4.1;4.4]\", \"(4.4;4.7]\", \"(4.7;5]\", \"(5;5.3]\", \"(5.3;5.6]\", \"(5.6;5.9)\"], range(6)):\n",
    "    n += df4[i][j]**2 / (df4[i][6] * df4[\"i\"][j])\n",
    "n -= 1\n",
    "n *= len(df['sepal_length'])\n",
    "xi = 37.6   # Из таблицы распределения хи квадрата\n",
    "\n",
    "if n > xi:\n",
    "    print('Гипотеза о независимости длины чашелистника и длины лепестка отвергается тк', n, '>', xi)\n",
    "else:\n",
    "    print('Гипотеза о независимости длины чашелистника и длины лепестка подверждается тк', n, '<', xi)"
   ]
  },
  {
   "cell_type": "code",
   "execution_count": 28,
   "id": "75be8803",
   "metadata": {},
   "outputs": [
    {
     "name": "stdout",
     "output_type": "stream",
     "text": [
      "Пункт 3.2\n",
      "Оценка ковариации коэффициента корелляции равна 0.01635510204081632\n",
      "Сам коэфецент корелляции равен 0.2671757588687356\n",
      "Значит гипотеза о незначемости коэфецента коркеелляции подтверждается тк 2.57 > 1.9208759925797505\n"
     ]
    }
   ],
   "source": [
    "print('Пункт 3.2')\n",
    "\n",
    "mean_x = sum(df['sepal_length'])/len(df['sepal_length'])  # Находим выборочные среднее выборок X и Y\n",
    "mean_y = sum(df['petal_length'])/len(df['petal_length'])\n",
    "\n",
    "sub_x = [i - mean_x for i in df['sepal_length']]     # По формуле отнимаем от элементов выборок Х и У, их среднее и\n",
    "sub_y = [i - mean_y for i in df['petal_length']]    # складываем в наши списки\n",
    "\n",
    "cov = (sum([sub_x[i] * sub_y[i] for i in range(len(sub_x))])) / (len(df['petal_length']) - 1)\n",
    "print(\"Оценка ковариации коэффициента корелляции равна\", cov)\n",
    "\n",
    "# Для начала найдём выборочный коэффициент корелляции\n",
    "\n",
    "mean_xy = sum((df['sepal_length'] * df['petal_length'])/len(df['sepal_length']))\n",
    "s_xy = mean_xy - mean_y*mean_x\n",
    "mean_x2 = sum(i**2 for i in df['sepal_length'])/len(df['sepal_length'])\n",
    "mean_y2 = sum(i**2 for i in df['petal_length'])/len(df['petal_length'])\n",
    "s_x = (mean_x2 - mean_x**2)**0.5\n",
    "s_y = (mean_y2 - mean_y**2)**0.5\n",
    "r_xy = s_xy/(s_x*s_y)\n",
    "t = (r_xy * (len(df['petal_length']) - 2)**0.5) / (1 - r_xy ** 2) ** 0.5\n",
    "# А теперь сравним наше распределение статистики со значением из таблицы Стьюдента при alpha = 0.01\n",
    "st = 2.57\n",
    "print(\"Сам коэфецент корелляции равен\", r_xy)\n",
    "if st > t:\n",
    "    print(\"Значит гипотеза о незначемости коэфецента коркеелляции подтверждается тк\", st, \">\", t)\n",
    "else:\n",
    "    print(\"Значит гипотеза отвергается на данном уровне значимости 0.99, тк\", st, \"<\", t)"
   ]
  },
  {
   "cell_type": "code",
   "execution_count": 29,
   "id": "1b94b461",
   "metadata": {
    "scrolled": true
   },
   "outputs": [
    {
     "name": "stdout",
     "output_type": "stream",
     "text": [
      "Пункт 3.3\n"
     ]
    },
    {
     "data": {
      "image/png": "[encoded data removed]",
      "text/plain": [
       "<Figure size 432x288 with 1 Axes>"
      ]
     },
     "metadata": {
      "needs_background": "light"
     },
     "output_type": "display_data"
    },
    {
     "name": "stdout",
     "output_type": "stream",
     "text": [
      "Уравнение линейной регрессии: Y = 0.80305 + 0.13163X \n",
      "Все нужные параметры можно легко увидеть\n",
      "Как нам известно, коэфецент детерминации равен квадрату коэфецента корелляции, а точнее 0.07138288612708477\n",
      "Гипотза о значимости критерия Фишера будет значимой тк 3.6897645788692426 < 4.08\n"
     ]
    }
   ],
   "source": [
    "# 3.3\n",
    "print(\"Пункт 3.3\")\n",
    "\n",
    "x = df['sepal_length'].values.reshape(-1, 1)\n",
    "y = df['petal_length'].values.reshape(-1, 1)\n",
    "reg = LinearRegression()\n",
    "reg.fit(x, y)\n",
    "plt.scatter(df['sepal_length'], df['petal_length'])\n",
    "plt.plot(df['sepal_length'], reg.predict(x), color='green', linewidth=2)\n",
    "plt.show()\n",
    "print(\"Уравнение линейной регрессии: Y = {:.5} + {:.5}X\".format(reg.intercept_[0], reg.coef_[0][0]),\n",
    "      \"\\nВсе нужные параметры можно легко увидеть\")\n",
    "\n",
    "de = r_xy**2\n",
    "print(\"Как нам известно, коэфецент детерминации равен квадрату коэфецента корелляции, а точнее\", de)\n",
    "\n",
    "m = 1\n",
    "f = (de/(1-de)) * (len(df['petal_length']) - m - 1)/m\n",
    "fi = 4.08   # При уровне значимости 0.05\n",
    "if f > fi:\n",
    "    print(\"Гипотза о значимости критерия Фишера будет отвергнута тк\", f, \">\", fi)\n",
    "else:\n",
    "    print(\"Гипотза о значимости критерия Фишера будет значимой тк\", f, \"<\", fi)"
   ]
  }
 ],
 "metadata": {
  "kernelspec": {
   "display_name": "Python 3 (ipykernel)",
   "language": "python",
   "name": "python3"
  },
  "language_info": {
   "codemirror_mode": {
    "name": "ipython",
    "version": 3
   },
   "file_extension": ".py",
   "mimetype": "text/x-python",
   "name": "python",
   "nbconvert_exporter": "python",
   "pygments_lexer": "ipython3",
   "version": "3.8.5"
  }
 },
 "nbformat": 4,
 "nbformat_minor": 5
}
