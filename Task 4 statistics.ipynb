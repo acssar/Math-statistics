{
 "cells": [
  {
   "cell_type": "markdown",
   "id": "d0c6c8e3",
   "metadata": {},
   "source": [
    "### Дерунец Роман 20930, вариант 2\n",
    "\n",
    "4.1. Построить байесовский классификатор в предположении, что\n",
    "переменная распределена нормально для обоих классов (5 баллов).  \n",
    "4.2. Оценить точность классификации при случайном разбиении выборки на\n",
    "обучающую (80%) и контрольную выборки (20%) (5 баллов).\n",
    "\n",
    "Iris Setosa, Iris virginica  \n",
    "Ширина\n",
    "чашелистика"
   ]
  },
  {
   "cell_type": "code",
   "execution_count": 6,
   "id": "28b84d96",
   "metadata": {},
   "outputs": [
    {
     "name": "stdout",
     "output_type": "stream",
     "text": [
      "Предсказание о виде цветка по его стеблю, примеры:\n",
      "Если стебель 3.9, то это setosa\n",
      "Если стебель 2.8, то это virginica\n"
     ]
    }
   ],
   "source": [
    "import numpy as np\n",
    "import matplotlib.pyplot as plt\n",
    "import pandas as pd\n",
    "import sklearn.model_selection as model_selection\n",
    "from sklearn.naive_bayes import GaussianNB\n",
    "from sklearn.metrics import accuracy_score\n",
    "\n",
    "dataset = pd.read_csv('Dataframe.csv', sep=' ')\n",
    "dataset = dataset.drop(dataset[dataset.iris_species == 'versicolor'].index) # исключаем ненужный вид\n",
    "X = dataset['sepal_width'].values.reshape(-1, 1) # ширина чашелистника\n",
    "y = dataset['iris_species'].values\n",
    "\n",
    "X_train, X_test, y_train, y_test = model_selection.train_test_split(X, y, test_size=0.20, random_state=65)\n",
    "classifier = GaussianNB()\n",
    "classifier.fit(X_train, y_train)\n",
    "\n",
    "y_pred = classifier.predict(X_test)\n",
    "print('Предсказание о виде цветка по его стеблю, примеры:')\n",
    "print('Если стебель 3.9, то это', ''.join(classifier.predict([[3.9]])))\n",
    "print('Если стебель 2.8, то это', ''.join(classifier.predict([[2.8]])))"
   ]
  },
  {
   "cell_type": "code",
   "execution_count": 7,
   "id": "c4636bef",
   "metadata": {},
   "outputs": [
    {
     "name": "stdout",
     "output_type": "stream",
     "text": [
      "Accuracy :  0.8\n",
      "Вот пример работы программы:\n",
      "   Real Values Predicted Values\n",
      "0       setosa           setosa\n",
      "1    virginica           setosa\n",
      "2       setosa           setosa\n",
      "3    virginica        virginica\n",
      "4    virginica        virginica\n",
      "5    virginica        virginica\n",
      "6       setosa           setosa\n",
      "7    virginica           setosa\n",
      "8       setosa           setosa\n",
      "9    virginica        virginica\n",
      "10   virginica        virginica\n",
      "11      setosa        virginica\n",
      "12      setosa           setosa\n",
      "13   virginica        virginica\n",
      "14      setosa           setosa\n",
      "15   virginica        virginica\n",
      "16      setosa           setosa\n",
      "17   virginica        virginica\n",
      "18   virginica        virginica\n",
      "19      setosa        virginica\n"
     ]
    }
   ],
   "source": [
    "print(\"Accuracy : \", accuracy_score(y_test, y_pred))\n",
    "\n",
    "df = pd.DataFrame({'Real Values':y_test, 'Predicted Values':y_pred})\n",
    "print('Вот пример работы программы:')\n",
    "print(df)"
   ]
  }
 ],
 "metadata": {
  "kernelspec": {
   "display_name": "Python 3 (ipykernel)",
   "language": "python",
   "name": "python3"
  },
  "language_info": {
   "codemirror_mode": {
    "name": "ipython",
    "version": 3
   },
   "file_extension": ".py",
   "mimetype": "text/x-python",
   "name": "python",
   "nbconvert_exporter": "python",
   "pygments_lexer": "ipython3",
   "version": "3.8.5"
  }
 },
 "nbformat": 4,
 "nbformat_minor": 5
}
