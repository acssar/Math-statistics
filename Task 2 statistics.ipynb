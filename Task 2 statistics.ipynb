{
 "cells": [
  {
   "cell_type": "markdown",
   "id": "090a0f77",
   "metadata": {},
   "source": [
    "### Дерунец Роман 20930, вариант 2\n",
    "\n",
    "2.1. Вычислить выборочные характеристики (2 балла):\n",
    "* выборочное среднее,\n",
    "* выборочную дисперсию,\n",
    "* несмещенную выборочную дисперсию,\n",
    "* минимальную порядковую статистику,\n",
    "* максимальную порядковую статистику,\n",
    "* размах,\n",
    "* медиану.  \n",
    "\n",
    "2.2. Построить (3 балла):\n",
    "* график эмпирической функции распределения,\n",
    "* гистограмму,\n",
    "* ядерную оценку функции плотности.  \n",
    "\n",
    "\n",
    "2.3. Построить 99% - доверительный интервал (в предположении, что\n",
    "выборка подчиняется нормальному распределению с неизвестными\n",
    "параметрами) (3 балла)  \n",
    "* для математического ожидания\n",
    "* для дисперсии  \n",
    "\n",
    "\n",
    "2.4. Проверить гипотезу о нормальном законе распределения (2 балла)\n",
    "* по критерию Колмогорова или Хи-квадрат Пирсона    \n",
    "\n",
    "\n",
    "Iris Setosa, Ширина\n",
    "чашелистика"
   ]
  },
  {
   "cell_type": "code",
   "execution_count": 49,
   "id": "e9e20c4f",
   "metadata": {
    "scrolled": true
   },
   "outputs": [
    {
     "name": "stdout",
     "output_type": "stream",
     "text": [
      "№2\n",
      "Пункт 2.1 \n",
      "Выборочное средние 3.428 \n",
      "Выборочная дисперсия 0.14081600000000002 \n",
      "Несмещенная выборочная дисперсия 0.14368979591836736 \n",
      "Минимальная порядковая статистика 2.3 \n",
      "Максимальная порядковая статистика 4.4 \n",
      "Размах 2.1000000000000005 \n",
      "Медиана 3.4\n"
     ]
    }
   ],
   "source": [
    "import numpy as np\n",
    "import pandas as pd\n",
    "import matplotlib.pyplot as plt\n",
    "import seaborn as sb\n",
    "import scipy.stats as sps\n",
    "\n",
    "\n",
    "def plot_emirical_cdf(sample):\n",
    "    hist, edges = np.histogram(sample, bins=len(sample))\n",
    "    y = hist.cumsum()\n",
    "    y = y/50\n",
    "    for i in range(len(y)):\n",
    "        plt.plot([edges[i], edges[i+1]], [y[i], y[i]], c=\"red\")\n",
    "    plt.show()\n",
    "\n",
    "\n",
    "df = pd.read_csv('Dataframe.csv', sep=' ')\n",
    "df = df.drop(df[df.iris_species != 'setosa'].index)\n",
    "# 2.1\n",
    "print('№2')\n",
    "sample_mean = (df['sepal_width'].sum()) / df.shape[0]\n",
    "sample_variance = 0\n",
    "for i in range(df.shape[0]):\n",
    "    sample_variance += (sample_mean - df['sepal_width'][i])**2\n",
    "sample_variance = sample_variance / df.shape[0]\n",
    "unbiased_sample_variance = sample_variance * (df.shape[0] / (df.shape[0] - 1))\n",
    "df = df.sort_values(\"sepal_width\")  # Вариационный ряд\n",
    "df = df.reset_index()\n",
    "n = 0\n",
    "p = df.shape[0] % 2\n",
    "if p == 0:\n",
    "    n = df.shape[0] / 2\n",
    "else:\n",
    "    n = df.shape[0] // 2 + 1\n",
    "print(\"Пункт 2.1\",\n",
    "          \"\\nВыборочное средние\", sample_mean,\n",
    "          \"\\nВыборочная дисперсия\", sample_variance,\n",
    "          \"\\nНесмещенная выборочная дисперсия\", unbiased_sample_variance,\n",
    "          \"\\nМинимальная порядковая статистика\", df['sepal_width'][0],\n",
    "          \"\\nМаксимальная порядковая статистика\", df['sepal_width'][df.shape[0]-1],\n",
    "          \"\\nРазмах\", df['sepal_width'][df.shape[0]-1] - df['sepal_width'][0],\n",
    "          \"\\nМедиана\", df['sepal_width'][n])"
   ]
  },
  {
   "cell_type": "code",
   "execution_count": 50,
   "id": "76d57c65",
   "metadata": {},
   "outputs": [
    {
     "data": {
      "image/png": "[encoded data removed]",
      "text/plain": [
       "<Figure size 432x288 with 1 Axes>"
      ]
     },
     "metadata": {
      "needs_background": "light"
     },
     "output_type": "display_data"
    },
    {
     "name": "stdout",
     "output_type": "stream",
     "text": [
      "Валидационный ряд для графика эмпирической функции распределения:\n",
      "[2.3, 2.9, 3.0, 3.0, 3.0, 3.0, 3.0, 3.0, 3.1, 3.1, 3.1, 3.1, 3.2, 3.2, 3.2, 3.2, 3.2, 3.3, 3.3, 3.4, 3.4, 3.4, 3.4, 3.4, 3.4, 3.4, 3.4, 3.4, 3.5, 3.5, 3.5, 3.5, 3.5, 3.5, 3.6, 3.6, 3.6, 3.7, 3.7, 3.7, 3.8, 3.8, 3.8, 3.8, 3.9, 3.9, 4.0, 4.1, 4.2, 4.4]\n"
     ]
    },
    {
     "data": {
      "image/png": "[encoded data removed]",
      "text/plain": [
       "<Figure size 432x288 with 1 Axes>"
      ]
     },
     "metadata": {
      "needs_background": "light"
     },
     "output_type": "display_data"
    },
    {
     "name": "stdout",
     "output_type": "stream",
     "text": [
      "Данные для гистаграммы - значение и его количество в нашем входном списке:\n",
      "{2.3: 1, 2.9: 1, 3.0: 6, 3.1: 4, 3.2: 5, 3.3: 2, 3.4: 9, 3.5: 6, 3.6: 3, 3.7: 3, 3.8: 4, 3.9: 2, 4.0: 1, 4.1: 1, 4.2: 1, 4.4: 1}\n"
     ]
    },
    {
     "name": "stderr",
     "output_type": "stream",
     "text": [
      "c:\\program files (x86)\\python38-32\\lib\\site-packages\\seaborn\\distributions.py:2619: FutureWarning: `distplot` is a deprecated function and will be removed in a future version. Please adapt your code to use either `displot` (a figure-level function with similar flexibility) or `kdeplot` (an axes-level function for kernel density plots).\n",
      "  warnings.warn(msg, FutureWarning)\n"
     ]
    },
    {
     "data": {
      "image/png": "[encoded data removed]",
      "text/plain": [
       "<Figure size 432x288 with 1 Axes>"
      ]
     },
     "metadata": {
      "needs_background": "light"
     },
     "output_type": "display_data"
    }
   ],
   "source": [
    "# print(\"Пункт 2.2\")\n",
    "sample = list(np.reshape(df['sepal_width'].values, -1, order='F'))\n",
    "plot_emirical_cdf(sample)\n",
    "print(\"Валидационный ряд для графика эмпирической функции распределения:\")\n",
    "print(sample)  # Валидационный ряд со значениями отcортированными по возрастанию\n",
    "\n",
    "plt.hist(sample, density=True, bins=6)  # Гистаграма распределения\n",
    "plt.show()\n",
    "\n",
    "hist = {}                                            \n",
    "buf = df['sepal_width'][0]                           \n",
    "n = 1                                                \n",
    "for i in range(1, df['sepal_width'].shape[0]):      \n",
    "    if df['sepal_width'][i] == buf:\n",
    "        n += 1\n",
    "    else:\n",
    "        hist[buf] = n\n",
    "        buf = df['sepal_width'][i]\n",
    "        n = 1\n",
    "    if i == df['sepal_width'].shape[0] - 1:\n",
    "        hist[buf] = n\n",
    "print(\"Данные для гистаграммы - значение и его количество в нашем входном списке:\")\n",
    "print(hist)\n",
    "\n",
    "sb.distplot(df['sepal_width'], hist=False)  # Ядерная(kernel) оценка функции плотности\n",
    "plt.show()"
   ]
  },
  {
   "cell_type": "code",
   "execution_count": 51,
   "id": "99194ced",
   "metadata": {},
   "outputs": [
    {
     "name": "stdout",
     "output_type": "stream",
     "text": [
      "Пункт 2.3\n",
      "Доверительный интервал для мат. ожидания ищем по формуле через известную нам дисперсию\n",
      "А вот доверительный интервал для дисперсии ищем по формуле через известное выборочное среднее\n",
      "99% доверительный интервал для мат. ожидания - [ 3.3768200184712236 ; 3.4791799815287763 ] \n",
      "99% доверительный интервал для дисперсии - [ 0.0924596191726855 ; 0.23698418041063618 ]\n"
     ]
    }
   ],
   "source": [
    "print('Пункт 2.3')\n",
    "u = 2.57    # Из таблицы Стьюдента\n",
    "n = (u*sample_variance)/(df.shape[0])**0.5    # Формула из лекции для нахождения доверительного интервала мат. ожидания при известной дисперсии\n",
    "# Для получения более точного ответа, воспользуемся таблицей распределения хи квадрата из интернета\n",
    "expected_value = sample_variance * df.shape[0]     # Это из формулы поиска доверительного интервала для дисперсии при известном мат. ожидании\n",
    "q1 = 76.15    # Данные из таблицы распределения Хи-квадрата\n",
    "q2 = 29.71\n",
    "print(\"Доверительный интервал для мат. ожидания ищем по формуле через известную нам дисперсию\")\n",
    "print(\"А вот доверительный интервал для дисперсии ищем по формуле через известное выборочное среднее\")\n",
    "print('99% доверительный интервал для мат. ожидания - [', sample_mean-n, ';', sample_mean+n, ']',\n",
    "          '\\n99% доверительный интервал для дисперсии - [', expected_value/q1, ';', expected_value/q2, ']')"
   ]
  },
  {
   "cell_type": "code",
   "execution_count": 52,
   "id": "bbab7130",
   "metadata": {},
   "outputs": [
    {
     "name": "stdout",
     "output_type": "stream",
     "text": [
      "Пункт 2.4\n",
      "Распределение не является нормальным\n"
     ]
    }
   ],
   "source": [
    "print(\"Пункт 2.4\")\n",
    "# По критерию хи-квадрат, alpha 0.05\n",
    "x = df['sepal_width']\n",
    "d_plus = 0\n",
    "for i, x_1 in enumerate(x):\n",
    "    d_plus = max(d_plus, (i + 1) / len(x) - scipy.stats.norm(loc=sample_mean, scale=sample_variance).cdf(x_1))\n",
    "\n",
    "    d_minus = 0\n",
    "for i, x_1 in enumerate(x):\n",
    "    d_minus = max(d_minus, sps.norm(loc=sample_mean, scale=sample_variance).cdf(x_1) - i / len(x))\n",
    "if (6 * len(x) * max(d_minus, d_plus) + 1) / (6 * np.sqrt(len(x))) <= 0.9042:\n",
    "        print(\"Распределение можно считать нормальным на уровне значимости 0.05\")\n",
    "else:\n",
    "        print(\"Распределение не является нормальным\")"
   ]
  },
  {
   "cell_type": "code",
   "execution_count": 53,
   "id": "cc46d525",
   "metadata": {},
   "outputs": [
    {
     "name": "stdout",
     "output_type": "stream",
     "text": [
      "Пункт 2.4\n",
      "Найдём наибольшее отклонение, затем сравниваем его с нашим значением критерия Колмагорова:\n",
      "F*(x)    F(x)    |F(x) - F*(x)|\n",
      "0.0062   0.02      0.0138\n",
      "0.1841   0.04      0.1441\n",
      "0.2743   0.16      0.1143\n",
      "0.3557   0.24      0.1157\n",
      "0.4602   0.34      0.1202\n",
      "0.5596   0.38      0.1796\n",
      "0.6628   0.56      0.1028\n",
      "0.7549   0.68      0.0749\n",
      "0.8315   0.74      0.0915\n",
      "0.8883   0.80      0.0883\n",
      "0.9319   0.88      0.0519\n",
      "0.9608   0.92      0.0408\n",
      "0.9783   0.94      0.0383\n",
      "0.9893   0.96      0.0293\n",
      "0.9948   0.98      0.0148\n",
      "0.9987   1.00      0.0013\n",
      "Получается, что lambda =  1.2700\n",
      "Так как 1.2700 > 1.0599 , то распределение не является нормальным\n"
     ]
    }
   ],
   "source": [
    "# 2.4\n",
    "print(\"Пункт 2.4\")\n",
    "# Воспользуемся тут критерием Колмогорова, alpha = 0.01, значение из таблицы t=s:\n",
    "t = 1.0599\n",
    "# Далее найдём наибольшее отклонение и вычислим значение критерия\n",
    "fx = [0.02, 0.04, 0.16, 0.24, 0.34, 0.38, 0.56, 0.68, 0.74, 0.8, 0.88, 0.92, 0.94, 0.96, 0.98, 1]\n",
    "# С помощью функции Лапласа, где значение справа равно Ф(((x[i] - x(выб. ср)))/s(Выб. исправленное ср. кв. откл.)) \n",
    "f_x = [0.0062, 0.1841, 0.2743, 0.3557, 0.4602, 0.5596, 0.6628, 0.7549, 0.8315, 0.8883, 0.9319, 0.9608, 0.9783, 0.9893, 0.9948, 0.99865]\n",
    "lamba = []\n",
    "for i in range(len(fx)):\n",
    "    if fx[i] > f_x[i]:\n",
    "        lamba.append((fx[i] - f_x[i]))\n",
    "    else:\n",
    "        lamba.append(f_x[i] - fx[i])\n",
    "print(\"Найдём наибольшее отклонение, затем сравниваем его с нашим значением критерия Колмагорова:\")\n",
    "print(\"F*(x)    F(x)    |F(x) - F*(x)|\")\n",
    "for i in range(len(fx)):\n",
    "    print(f'{f_x[i]:.4f}', \" \", f'{fx[i]:.2f}', \"    \", f'{lamba[i]:.4f}')\n",
    "maxi = max(lamba)*(50**0.5)   # Умножаем на корень количества всех символов\n",
    "print(\"Получается, что lambda = \", f'{maxi:.4f}')\n",
    "if maxi < t:\n",
    "    print(\"Так как\", f'{maxi:.4f}', \"<\", t,\", то распределение можно считать нормальным на уровне значимости 0.01\")\n",
    "else:\n",
    "    print(\"Так как\", f'{maxi:.4f}', \">\", t,\", то распределение не является нормальным\")"
   ]
  }
 ],
 "metadata": {
  "kernelspec": {
   "display_name": "Python 3 (ipykernel)",
   "language": "python",
   "name": "python3"
  },
  "language_info": {
   "codemirror_mode": {
    "name": "ipython",
    "version": 3
   },
   "file_extension": ".py",
   "mimetype": "text/x-python",
   "name": "python",
   "nbconvert_exporter": "python",
   "pygments_lexer": "ipython3",
   "version": "3.8.5"
  }
 },
 "nbformat": 4,
 "nbformat_minor": 5
}
